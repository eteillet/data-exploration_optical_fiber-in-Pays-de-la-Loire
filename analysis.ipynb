{
 "cells": [
  {
   "cell_type": "markdown",
   "id": "985434b4",
   "metadata": {},
   "source": [
    "## Import libraries"
   ]
  },
  {
   "cell_type": "code",
   "execution_count": 50,
   "id": "cc575bc1",
   "metadata": {},
   "outputs": [],
   "source": [
    "import pandas as pd\n",
    "import numpy as np\n",
    "import matplotlib.pyplot as plt"
   ]
  },
  {
   "cell_type": "markdown",
   "id": "98d23124",
   "metadata": {},
   "source": [
    "## Import dataset"
   ]
  },
  {
   "cell_type": "code",
   "execution_count": 51,
   "id": "d376e00f",
   "metadata": {},
   "outputs": [],
   "source": [
    "df = pd.read_csv(\"ftth-en-pays-de-la-loire.csv\")"
   ]
  },
  {
   "cell_type": "markdown",
   "id": "593bbe7d",
   "metadata": {},
   "source": [
    "## Learn more about dataset"
   ]
  },
  {
   "cell_type": "code",
   "execution_count": 52,
   "id": "42cf2d77",
   "metadata": {
    "scrolled": true
   },
   "outputs": [
    {
     "data": {
      "text/html": [
       "<div>\n",
       "<style scoped>\n",
       "    .dataframe tbody tr th:only-of-type {\n",
       "        vertical-align: middle;\n",
       "    }\n",
       "\n",
       "    .dataframe tbody tr th {\n",
       "        vertical-align: top;\n",
       "    }\n",
       "\n",
       "    .dataframe thead th {\n",
       "        text-align: right;\n",
       "    }\n",
       "</style>\n",
       "<table border=\"1\" class=\"dataframe\">\n",
       "  <thead>\n",
       "    <tr style=\"text-align: right;\">\n",
       "      <th></th>\n",
       "      <th>Code INSEE</th>\n",
       "      <th>code_region</th>\n",
       "      <th>code_departement</th>\n",
       "      <th>Département</th>\n",
       "      <th>siren_epci</th>\n",
       "      <th>EPCI</th>\n",
       "      <th>Logements</th>\n",
       "      <th>Établissements</th>\n",
       "      <th>Locaux raccordables 4eme trimestre 2017</th>\n",
       "      <th>Locaux raccordables 1er trimestre 2018</th>\n",
       "      <th>...</th>\n",
       "      <th>EPCI AMII</th>\n",
       "      <th>Nombre locaux IPE T2 2022 (somme tous OI)</th>\n",
       "      <th>Source retenue T2 2022</th>\n",
       "      <th>Meilleure estimation des locaux T2 2022</th>\n",
       "      <th>Zones très denses</th>\n",
       "      <th>Engagements L. 33-13 et AMEL</th>\n",
       "      <th>Intentions privées hors engagement L. 33-13</th>\n",
       "      <th>Commune rurale</th>\n",
       "      <th>OI T2 2022</th>\n",
       "      <th>Locaux raccordables 2eme trimestre 2022</th>\n",
       "    </tr>\n",
       "  </thead>\n",
       "  <tbody>\n",
       "    <tr>\n",
       "      <th>0</th>\n",
       "      <td>44013</td>\n",
       "      <td>52</td>\n",
       "      <td>44</td>\n",
       "      <td>Loire-Atlantique</td>\n",
       "      <td>244400644</td>\n",
       "      <td>CA de la Région Nazairienne et de l'Estuaire (...</td>\n",
       "      <td>1,302</td>\n",
       "      <td>45</td>\n",
       "      <td>0</td>\n",
       "      <td>0</td>\n",
       "      <td>...</td>\n",
       "      <td>Oui</td>\n",
       "      <td>1,524</td>\n",
       "      <td>IPE T2 2022 (un IPE)</td>\n",
       "      <td>1,524</td>\n",
       "      <td>0</td>\n",
       "      <td>NaN</td>\n",
       "      <td>0</td>\n",
       "      <td>1</td>\n",
       "      <td>FRTE</td>\n",
       "      <td>1,404</td>\n",
       "    </tr>\n",
       "    <tr>\n",
       "      <th>1</th>\n",
       "      <td>44020</td>\n",
       "      <td>52</td>\n",
       "      <td>44</td>\n",
       "      <td>Loire-Atlantique</td>\n",
       "      <td>244400404</td>\n",
       "      <td>Nantes Métropole</td>\n",
       "      <td>8,499</td>\n",
       "      <td>484</td>\n",
       "      <td>2,658</td>\n",
       "      <td>2,743</td>\n",
       "      <td>...</td>\n",
       "      <td>Oui</td>\n",
       "      <td>10,434</td>\n",
       "      <td>IPE T2 2022 (un IPE)</td>\n",
       "      <td>10,434</td>\n",
       "      <td>0</td>\n",
       "      <td>NaN</td>\n",
       "      <td>0</td>\n",
       "      <td>0</td>\n",
       "      <td>SFTT</td>\n",
       "      <td>10,039</td>\n",
       "    </tr>\n",
       "    <tr>\n",
       "      <th>2</th>\n",
       "      <td>44021</td>\n",
       "      <td>52</td>\n",
       "      <td>44</td>\n",
       "      <td>Loire-Atlantique</td>\n",
       "      <td>200071546</td>\n",
       "      <td>CA Pornic Agglo Pays de Retz</td>\n",
       "      <td>2,381</td>\n",
       "      <td>109</td>\n",
       "      <td>0</td>\n",
       "      <td>0</td>\n",
       "      <td>...</td>\n",
       "      <td>Non</td>\n",
       "      <td>0</td>\n",
       "      <td>INSEE 2018 (IPE moins complet)</td>\n",
       "      <td>2,491</td>\n",
       "      <td>0</td>\n",
       "      <td>0.0</td>\n",
       "      <td>0</td>\n",
       "      <td>1</td>\n",
       "      <td>NaN</td>\n",
       "      <td>0</td>\n",
       "    </tr>\n",
       "    <tr>\n",
       "      <th>3</th>\n",
       "      <td>44028</td>\n",
       "      <td>52</td>\n",
       "      <td>44</td>\n",
       "      <td>Loire-Atlantique</td>\n",
       "      <td>244400552</td>\n",
       "      <td>CC du Pays d'Ancenis</td>\n",
       "      <td>1,732</td>\n",
       "      <td>91</td>\n",
       "      <td>0</td>\n",
       "      <td>0</td>\n",
       "      <td>...</td>\n",
       "      <td>Non</td>\n",
       "      <td>2,254</td>\n",
       "      <td>IPE T2 2022 (un IPE)</td>\n",
       "      <td>2,252</td>\n",
       "      <td>0</td>\n",
       "      <td>0.0</td>\n",
       "      <td>0</td>\n",
       "      <td>1</td>\n",
       "      <td>FRTE-LOAN</td>\n",
       "      <td>1,361</td>\n",
       "    </tr>\n",
       "    <tr>\n",
       "      <th>4</th>\n",
       "      <td>44035</td>\n",
       "      <td>52</td>\n",
       "      <td>44</td>\n",
       "      <td>Loire-Atlantique</td>\n",
       "      <td>244400404</td>\n",
       "      <td>Nantes Métropole</td>\n",
       "      <td>8,608</td>\n",
       "      <td>548</td>\n",
       "      <td>1,264</td>\n",
       "      <td>1,893</td>\n",
       "      <td>...</td>\n",
       "      <td>Oui</td>\n",
       "      <td>10,723</td>\n",
       "      <td>IPE T2 2022 (un IPE)</td>\n",
       "      <td>10,723</td>\n",
       "      <td>0</td>\n",
       "      <td>NaN</td>\n",
       "      <td>0</td>\n",
       "      <td>0</td>\n",
       "      <td>FRTE</td>\n",
       "      <td>9,190</td>\n",
       "    </tr>\n",
       "  </tbody>\n",
       "</table>\n",
       "<p>5 rows × 40 columns</p>\n",
       "</div>"
      ],
      "text/plain": [
       "   Code INSEE  code_region  code_departement       Département siren_epci  \\\n",
       "0       44013           52                44  Loire-Atlantique  244400644   \n",
       "1       44020           52                44  Loire-Atlantique  244400404   \n",
       "2       44021           52                44  Loire-Atlantique  200071546   \n",
       "3       44028           52                44  Loire-Atlantique  244400552   \n",
       "4       44035           52                44  Loire-Atlantique  244400404   \n",
       "\n",
       "                                                EPCI Logements Établissements  \\\n",
       "0  CA de la Région Nazairienne et de l'Estuaire (...     1,302             45   \n",
       "1                                   Nantes Métropole     8,499            484   \n",
       "2                       CA Pornic Agglo Pays de Retz     2,381            109   \n",
       "3                               CC du Pays d'Ancenis     1,732             91   \n",
       "4                                   Nantes Métropole     8,608            548   \n",
       "\n",
       "  Locaux raccordables 4eme trimestre 2017  \\\n",
       "0                                       0   \n",
       "1                                   2,658   \n",
       "2                                       0   \n",
       "3                                       0   \n",
       "4                                   1,264   \n",
       "\n",
       "  Locaux raccordables 1er trimestre 2018  ... EPCI AMII  \\\n",
       "0                                      0  ...       Oui   \n",
       "1                                  2,743  ...       Oui   \n",
       "2                                      0  ...       Non   \n",
       "3                                      0  ...       Non   \n",
       "4                                  1,893  ...       Oui   \n",
       "\n",
       "  Nombre locaux IPE T2 2022 (somme tous OI)         Source retenue T2 2022   \\\n",
       "0                                     1,524            IPE T2 2022 (un IPE)   \n",
       "1                                    10,434            IPE T2 2022 (un IPE)   \n",
       "2                                         0  INSEE 2018 (IPE moins complet)   \n",
       "3                                     2,254            IPE T2 2022 (un IPE)   \n",
       "4                                    10,723            IPE T2 2022 (un IPE)   \n",
       "\n",
       "  Meilleure estimation des locaux T2 2022  Zones très denses  \\\n",
       "0                                    1,524                 0   \n",
       "1                                   10,434                 0   \n",
       "2                                    2,491                 0   \n",
       "3                                    2,252                 0   \n",
       "4                                   10,723                 0   \n",
       "\n",
       "  Engagements L. 33-13 et AMEL Intentions privées hors engagement L. 33-13  \\\n",
       "0                          NaN                                           0   \n",
       "1                          NaN                                           0   \n",
       "2                          0.0                                           0   \n",
       "3                          0.0                                           0   \n",
       "4                          NaN                                           0   \n",
       "\n",
       "  Commune rurale OI T2 2022 Locaux raccordables 2eme trimestre 2022  \n",
       "0              1       FRTE                                   1,404  \n",
       "1              0       SFTT                                  10,039  \n",
       "2              1        NaN                                       0  \n",
       "3              1  FRTE-LOAN                                   1,361  \n",
       "4              0       FRTE                                   9,190  \n",
       "\n",
       "[5 rows x 40 columns]"
      ]
     },
     "execution_count": 52,
     "metadata": {},
     "output_type": "execute_result"
    }
   ],
   "source": [
    "df.head()"
   ]
  },
  {
   "cell_type": "code",
   "execution_count": 53,
   "id": "e77e31ad",
   "metadata": {
    "scrolled": true
   },
   "outputs": [
    {
     "name": "stdout",
     "output_type": "stream",
     "text": [
      "<class 'pandas.core.frame.DataFrame'>\n",
      "RangeIndex: 1235 entries, 0 to 1234\n",
      "Data columns (total 40 columns):\n",
      " #   Column                                       Non-Null Count  Dtype  \n",
      "---  ------                                       --------------  -----  \n",
      " 0   Code INSEE                                   1235 non-null   int64  \n",
      " 1   code_region                                  1235 non-null   int64  \n",
      " 2   code_departement                             1235 non-null   int64  \n",
      " 3   Département                                  1235 non-null   object \n",
      " 4   siren_epci                                   1235 non-null   object \n",
      " 5   EPCI                                         1234 non-null   object \n",
      " 6   Logements                                    1235 non-null   object \n",
      " 7   Établissements                               1235 non-null   object \n",
      " 8   Locaux raccordables 4eme trimestre 2017      1235 non-null   object \n",
      " 9   Locaux raccordables 1er trimestre 2018       1235 non-null   object \n",
      " 10  Locaux raccordables 2eme trimestre 2018      1235 non-null   object \n",
      " 11  Locaux raccordables 4eme trimestre 2018      1235 non-null   object \n",
      " 12  Locaux raccordables 3eme trimestre 2018      1235 non-null   object \n",
      " 13  Locaux raccordables 1er trimestre 2019       1235 non-null   object \n",
      " 14  Locaux raccordables 2eme trimestre 2019      1235 non-null   object \n",
      " 15  Locaux raccordables 3eme trimestre 2019      1235 non-null   object \n",
      " 16  Locaux raccordables 4eme trimestre 2019      1235 non-null   object \n",
      " 17  Locaux raccordables 1er trimestre 2020       1235 non-null   object \n",
      " 18  Locaux raccordables 2eme trimestre 2020      1235 non-null   object \n",
      " 19  Locaux raccordables 3eme trimestre 2020      1235 non-null   object \n",
      " 20  Locaux raccordables 4eme trimestre 2020      1235 non-null   object \n",
      " 21  Locaux raccordables 1er trimestre 2021       1235 non-null   object \n",
      " 22  Locaux raccordables 2eme trimestre 2021      1235 non-null   object \n",
      " 23  Locaux raccordables 3eme trimestre 2021      1235 non-null   object \n",
      " 24  Locaux raccordables 4eme trimestre 2021      1235 non-null   object \n",
      " 25  Région                                       1235 non-null   object \n",
      " 26  deploiement                                  0 non-null      float64\n",
      " 27  Locaux raccordables 1er trimestre 2022       1235 non-null   object \n",
      " 28  commune                                      1235 non-null   object \n",
      " 29  Commune                                      1235 non-null   object \n",
      " 30  EPCI AMII                                    1235 non-null   object \n",
      " 31  Nombre locaux IPE T2 2022 (somme tous OI)    1235 non-null   object \n",
      " 32  Source retenue T2 2022                       1235 non-null   object \n",
      " 33  Meilleure estimation des locaux T2 2022      1235 non-null   object \n",
      " 34  Zones très denses                            1235 non-null   int64  \n",
      " 35  Engagements L. 33-13 et AMEL                 1121 non-null   float64\n",
      " 36  Intentions privées hors engagement L. 33-13  1235 non-null   int64  \n",
      " 37  Commune rurale                               1235 non-null   int64  \n",
      " 38  OI T2 2022                                   1174 non-null   object \n",
      " 39  Locaux raccordables 2eme trimestre 2022      1235 non-null   object \n",
      "dtypes: float64(2), int64(6), object(32)\n",
      "memory usage: 386.1+ KB\n"
     ]
    }
   ],
   "source": [
    "df.info()"
   ]
  },
  {
   "cell_type": "markdown",
   "id": "96021dbd",
   "metadata": {},
   "source": [
    "## Clean dataset"
   ]
  },
  {
   "cell_type": "markdown",
   "id": "20842d99",
   "metadata": {},
   "source": [
    "##### Rename columns:"
   ]
  },
  {
   "cell_type": "code",
   "execution_count": 54,
   "id": "7f7d118a",
   "metadata": {},
   "outputs": [],
   "source": [
    "df.columns = df.columns.str.replace(' ', '_')\n",
    "df.columns = df.columns.str.replace('É', 'E')\n",
    "df.columns = df.columns.str.replace('é', 'e')\n",
    "df.columns = df.columns.str.replace('Locaux_raccordables_1er_trimestre_', 'raccordables_trim_1_')\n",
    "df.columns = df.columns.str.replace('Locaux_raccordables_2eme_trimestre_', 'raccordables_trim_2_')\n",
    "df.columns = df.columns.str.replace('Locaux_raccordables_3eme_trimestre_', 'raccordables_trim_3_')\n",
    "df.columns = df.columns.str.replace('Locaux_raccordables_4eme_trimestre_', 'raccordables_trim_4_')"
   ]
  },
  {
   "cell_type": "markdown",
   "id": "e0dd7180",
   "metadata": {},
   "source": [
    "##### Remove commas and change column types for numeric columns:"
   ]
  },
  {
   "cell_type": "code",
   "execution_count": 55,
   "id": "ed994adc",
   "metadata": {
    "scrolled": false
   },
   "outputs": [
    {
     "data": {
      "text/html": [
       "<div>\n",
       "<style scoped>\n",
       "    .dataframe tbody tr th:only-of-type {\n",
       "        vertical-align: middle;\n",
       "    }\n",
       "\n",
       "    .dataframe tbody tr th {\n",
       "        vertical-align: top;\n",
       "    }\n",
       "\n",
       "    .dataframe thead th {\n",
       "        text-align: right;\n",
       "    }\n",
       "</style>\n",
       "<table border=\"1\" class=\"dataframe\">\n",
       "  <thead>\n",
       "    <tr style=\"text-align: right;\">\n",
       "      <th></th>\n",
       "      <th>Code_INSEE</th>\n",
       "      <th>code_region</th>\n",
       "      <th>code_departement</th>\n",
       "      <th>Departement</th>\n",
       "      <th>siren_epci</th>\n",
       "      <th>EPCI</th>\n",
       "      <th>Logements</th>\n",
       "      <th>Etablissements</th>\n",
       "      <th>raccordables_trim_4_2017</th>\n",
       "      <th>raccordables_trim_1_2018</th>\n",
       "      <th>...</th>\n",
       "      <th>EPCI_AMII</th>\n",
       "      <th>Nombre_locaux_IPE_T2_2022_(somme_tous_OI)</th>\n",
       "      <th>Source_retenue_T2_2022_</th>\n",
       "      <th>Meilleure_estimation_des_locaux_T2_2022_</th>\n",
       "      <th>Zones_très_denses</th>\n",
       "      <th>Engagements_L._33-13_et_AMEL</th>\n",
       "      <th>Intentions_privees_hors_engagement_L._33-13</th>\n",
       "      <th>Commune_rurale</th>\n",
       "      <th>OI_T2_2022</th>\n",
       "      <th>raccordables_trim_2_2022</th>\n",
       "    </tr>\n",
       "  </thead>\n",
       "  <tbody>\n",
       "    <tr>\n",
       "      <th>0</th>\n",
       "      <td>44013</td>\n",
       "      <td>52</td>\n",
       "      <td>44</td>\n",
       "      <td>Loire-Atlantique</td>\n",
       "      <td>244400644</td>\n",
       "      <td>CA de la Région Nazairienne et de l'Estuaire (...</td>\n",
       "      <td>1302</td>\n",
       "      <td>45</td>\n",
       "      <td>0</td>\n",
       "      <td>0</td>\n",
       "      <td>...</td>\n",
       "      <td>Oui</td>\n",
       "      <td>1524</td>\n",
       "      <td>IPE T2 2022 (un IPE)</td>\n",
       "      <td>1524</td>\n",
       "      <td>0</td>\n",
       "      <td>NaN</td>\n",
       "      <td>0</td>\n",
       "      <td>1</td>\n",
       "      <td>FRTE</td>\n",
       "      <td>1404</td>\n",
       "    </tr>\n",
       "    <tr>\n",
       "      <th>1</th>\n",
       "      <td>44020</td>\n",
       "      <td>52</td>\n",
       "      <td>44</td>\n",
       "      <td>Loire-Atlantique</td>\n",
       "      <td>244400404</td>\n",
       "      <td>Nantes Métropole</td>\n",
       "      <td>8499</td>\n",
       "      <td>484</td>\n",
       "      <td>2658</td>\n",
       "      <td>2743</td>\n",
       "      <td>...</td>\n",
       "      <td>Oui</td>\n",
       "      <td>10434</td>\n",
       "      <td>IPE T2 2022 (un IPE)</td>\n",
       "      <td>10434</td>\n",
       "      <td>0</td>\n",
       "      <td>NaN</td>\n",
       "      <td>0</td>\n",
       "      <td>0</td>\n",
       "      <td>SFTT</td>\n",
       "      <td>10039</td>\n",
       "    </tr>\n",
       "    <tr>\n",
       "      <th>2</th>\n",
       "      <td>44021</td>\n",
       "      <td>52</td>\n",
       "      <td>44</td>\n",
       "      <td>Loire-Atlantique</td>\n",
       "      <td>200071546</td>\n",
       "      <td>CA Pornic Agglo Pays de Retz</td>\n",
       "      <td>2381</td>\n",
       "      <td>109</td>\n",
       "      <td>0</td>\n",
       "      <td>0</td>\n",
       "      <td>...</td>\n",
       "      <td>Non</td>\n",
       "      <td>0</td>\n",
       "      <td>INSEE 2018 (IPE moins complet)</td>\n",
       "      <td>2491</td>\n",
       "      <td>0</td>\n",
       "      <td>0.0</td>\n",
       "      <td>0</td>\n",
       "      <td>1</td>\n",
       "      <td>NaN</td>\n",
       "      <td>0</td>\n",
       "    </tr>\n",
       "    <tr>\n",
       "      <th>3</th>\n",
       "      <td>44028</td>\n",
       "      <td>52</td>\n",
       "      <td>44</td>\n",
       "      <td>Loire-Atlantique</td>\n",
       "      <td>244400552</td>\n",
       "      <td>CC du Pays d'Ancenis</td>\n",
       "      <td>1732</td>\n",
       "      <td>91</td>\n",
       "      <td>0</td>\n",
       "      <td>0</td>\n",
       "      <td>...</td>\n",
       "      <td>Non</td>\n",
       "      <td>2254</td>\n",
       "      <td>IPE T2 2022 (un IPE)</td>\n",
       "      <td>2252</td>\n",
       "      <td>0</td>\n",
       "      <td>0.0</td>\n",
       "      <td>0</td>\n",
       "      <td>1</td>\n",
       "      <td>FRTE-LOAN</td>\n",
       "      <td>1361</td>\n",
       "    </tr>\n",
       "    <tr>\n",
       "      <th>4</th>\n",
       "      <td>44035</td>\n",
       "      <td>52</td>\n",
       "      <td>44</td>\n",
       "      <td>Loire-Atlantique</td>\n",
       "      <td>244400404</td>\n",
       "      <td>Nantes Métropole</td>\n",
       "      <td>8608</td>\n",
       "      <td>548</td>\n",
       "      <td>1264</td>\n",
       "      <td>1893</td>\n",
       "      <td>...</td>\n",
       "      <td>Oui</td>\n",
       "      <td>10723</td>\n",
       "      <td>IPE T2 2022 (un IPE)</td>\n",
       "      <td>10723</td>\n",
       "      <td>0</td>\n",
       "      <td>NaN</td>\n",
       "      <td>0</td>\n",
       "      <td>0</td>\n",
       "      <td>FRTE</td>\n",
       "      <td>9190</td>\n",
       "    </tr>\n",
       "  </tbody>\n",
       "</table>\n",
       "<p>5 rows × 40 columns</p>\n",
       "</div>"
      ],
      "text/plain": [
       "   Code_INSEE  code_region  code_departement       Departement siren_epci  \\\n",
       "0       44013           52                44  Loire-Atlantique  244400644   \n",
       "1       44020           52                44  Loire-Atlantique  244400404   \n",
       "2       44021           52                44  Loire-Atlantique  200071546   \n",
       "3       44028           52                44  Loire-Atlantique  244400552   \n",
       "4       44035           52                44  Loire-Atlantique  244400404   \n",
       "\n",
       "                                                EPCI  Logements  \\\n",
       "0  CA de la Région Nazairienne et de l'Estuaire (...       1302   \n",
       "1                                   Nantes Métropole       8499   \n",
       "2                       CA Pornic Agglo Pays de Retz       2381   \n",
       "3                               CC du Pays d'Ancenis       1732   \n",
       "4                                   Nantes Métropole       8608   \n",
       "\n",
       "   Etablissements  raccordables_trim_4_2017  raccordables_trim_1_2018  ...  \\\n",
       "0              45                         0                         0  ...   \n",
       "1             484                      2658                      2743  ...   \n",
       "2             109                         0                         0  ...   \n",
       "3              91                         0                         0  ...   \n",
       "4             548                      1264                      1893  ...   \n",
       "\n",
       "   EPCI_AMII  Nombre_locaux_IPE_T2_2022_(somme_tous_OI)  \\\n",
       "0        Oui                                       1524   \n",
       "1        Oui                                      10434   \n",
       "2        Non                                          0   \n",
       "3        Non                                       2254   \n",
       "4        Oui                                      10723   \n",
       "\n",
       "          Source_retenue_T2_2022_  Meilleure_estimation_des_locaux_T2_2022_  \\\n",
       "0            IPE T2 2022 (un IPE)                                      1524   \n",
       "1            IPE T2 2022 (un IPE)                                     10434   \n",
       "2  INSEE 2018 (IPE moins complet)                                      2491   \n",
       "3            IPE T2 2022 (un IPE)                                      2252   \n",
       "4            IPE T2 2022 (un IPE)                                     10723   \n",
       "\n",
       "   Zones_très_denses  Engagements_L._33-13_et_AMEL  \\\n",
       "0                  0                           NaN   \n",
       "1                  0                           NaN   \n",
       "2                  0                           0.0   \n",
       "3                  0                           0.0   \n",
       "4                  0                           NaN   \n",
       "\n",
       "   Intentions_privees_hors_engagement_L._33-13  Commune_rurale  OI_T2_2022  \\\n",
       "0                                            0               1        FRTE   \n",
       "1                                            0               0        SFTT   \n",
       "2                                            0               1         NaN   \n",
       "3                                            0               1   FRTE-LOAN   \n",
       "4                                            0               0        FRTE   \n",
       "\n",
       "   raccordables_trim_2_2022  \n",
       "0                      1404  \n",
       "1                     10039  \n",
       "2                         0  \n",
       "3                      1361  \n",
       "4                      9190  \n",
       "\n",
       "[5 rows x 40 columns]"
      ]
     },
     "execution_count": 55,
     "metadata": {},
     "output_type": "execute_result"
    }
   ],
   "source": [
    "df = df.replace(',', '', regex=True)\n",
    "\n",
    "cols = df.loc[:, df.columns.str.startswith(\"raccordables_trim_\")].columns\n",
    "df[cols] = df[cols].apply(pd.to_numeric, errors='ignore')\n",
    "df['Logements'] = df['Logements'].apply(pd.to_numeric, errors='ignore')\n",
    "df['Etablissements'] = df['Etablissements'].apply(pd.to_numeric, errors='ignore')\n",
    "df['Nombre_locaux_IPE_T2_2022_(somme_tous_OI)'] = df['Nombre_locaux_IPE_T2_2022_(somme_tous_OI)'].apply(pd.to_numeric, errors='ignore')\n",
    "df['Meilleure_estimation_des_locaux_T2_2022_'] = df['Meilleure_estimation_des_locaux_T2_2022_'].apply(pd.to_numeric, errors='ignore')\n",
    "\n",
    "df.head()\n"
   ]
  },
  {
   "cell_type": "markdown",
   "id": "9b620603",
   "metadata": {},
   "source": [
    "##### First we try to vizualize the deployment for each department in 2022:"
   ]
  },
  {
   "cell_type": "code",
   "execution_count": 56,
   "id": "5f5874f6",
   "metadata": {
    "scrolled": false
   },
   "outputs": [
    {
     "data": {
      "image/png": "[encoded data removed]",
      "text/plain": [
       "<Figure size 640x480 with 5 Axes>"
      ]
     },
     "metadata": {},
     "output_type": "display_data"
    }
   ],
   "source": [
    "fig, axis = plt.subplots(1, 5)\n",
    "for i, dep in zip(range(0, 5), [44, 49, 53, 72, 85]):\n",
    "    axis[i].scatter(df[df['code_departement']==dep]['code_departement'], df[df['code_departement']==dep]['raccordables_trim_2_2022'])\n",
    "    x = df[df['code_departement']==dep]['code_departement'].unique()\n",
    "    axis[i].set_xticks(x,x)\n",
    "    axis[i].set_ylim(0, 40000)\n",
    "\n",
    "fig.suptitle(\"Deployment by department (number of inhabitants)\")\n",
    "fig.tight_layout()\n",
    "plt.show()"
   ]
  },
  {
   "cell_type": "markdown",
   "id": "a1ec47c2",
   "metadata": {},
   "source": [
    "Observations:\n",
    "* it does not really make sense to compare the raw data because the different departments do not have the same number of inhabitants\n",
    "* it would be more relevant to calculate the rate of progress (raccordables / logements)"
   ]
  },
  {
   "cell_type": "code",
   "execution_count": 57,
   "id": "14e25149",
   "metadata": {},
   "outputs": [],
   "source": [
    "df['raccordables_trim_2_2022_rate'] = df.raccordables_trim_2_2022 / df.Meilleure_estimation_des_locaux_T2_2022_ * 100"
   ]
  },
  {
   "cell_type": "code",
   "execution_count": 58,
   "id": "d1422a4e",
   "metadata": {
    "scrolled": false
   },
   "outputs": [
    {
     "data": {
      "image/png": "[encoded data removed]",
      "text/plain": [
       "<Figure size 640x480 with 5 Axes>"
      ]
     },
     "metadata": {},
     "output_type": "display_data"
    }
   ],
   "source": [
    "fig, axis = plt.subplots(1, 5)\n",
    "for i, dep in zip(range(0, 5), [44, 49, 53, 72, 85]):\n",
    "    axis[i].scatter(df[df['code_departement']==dep]['code_departement'], df[df['code_departement']==dep]['raccordables_trim_2_2022_rate'])\n",
    "    x = df[df['code_departement']==dep]['code_departement'].unique()\n",
    "    axis[i].set_xticks(x,x)\n",
    "\n",
    "\n",
    "fig.suptitle(\"Deployment by department (%)\")\n",
    "fig.tight_layout()\n",
    "plt.show()"
   ]
  },
  {
   "cell_type": "markdown",
   "id": "f9b33ba8",
   "metadata": {},
   "source": [
    "First observations:\n",
    "* 49 and 53 seem to be more advanced than the other departments\n",
    "* 85 has very well distributed data\n",
    "* 44 and 72 seem to have the majority of municipalities are very well deployed or very few"
   ]
  },
  {
   "cell_type": "markdown",
   "id": "5a8dfb59",
   "metadata": {},
   "source": [
    "---\n",
    "##### Calculate the mean and the median to confirm/infirm the first observations:"
   ]
  },
  {
   "cell_type": "code",
   "execution_count": 59,
   "id": "e257cfc9",
   "metadata": {
    "scrolled": false
   },
   "outputs": [
    {
     "name": "stdout",
     "output_type": "stream",
     "text": [
      "Mean 44 = 39.56393936717546\n",
      "Mean 49 = 64.388474749317\n",
      "Mean 53 = 83.90623086266653\n",
      "Mean 72 = 86.16038417389302\n",
      "Mean 85 = 36.53044481075808\n"
     ]
    }
   ],
   "source": [
    "period = 'raccordables_trim_2_2022_rate'\n",
    "\n",
    "for dep in [44, 49, 53, 72, 85]:  \n",
    "    mean = df[df['code_departement'] == dep][period].mean()\n",
    "    print(f\"Mean {dep} = {mean}\")"
   ]
  },
  {
   "cell_type": "markdown",
   "id": "5abd115a",
   "metadata": {},
   "source": [
    "---"
   ]
  },
  {
   "cell_type": "code",
   "execution_count": 60,
   "id": "941b8c63",
   "metadata": {},
   "outputs": [
    {
     "name": "stdout",
     "output_type": "stream",
     "text": [
      "Percentile 44 = 0.25 -> 0.0\t0.50 -> 21.809466746554822\t0.75 -> 85.86964650552439\n",
      "Percentile 49 = 0.25 -> 45.269382391590014\t0.50 -> 76.75840978593273\t0.75 -> 91.32181599035756\n",
      "Percentile 53 = 0.25 -> 78.33605732964547\t0.50 -> 91.02140236921423\t0.75 -> 97.28804273387206\n",
      "Percentile 72 = 0.25 -> 91.14838641897487\t0.50 -> 95.31876247411907\t0.75 -> 97.90274064171122\n",
      "Percentile 85 = 0.25 -> 1.5881418740074114\t0.50 -> 34.86117232260908\t0.75 -> 60.747663551401864\n"
     ]
    }
   ],
   "source": [
    "for dep in [44, 49, 53, 72, 85]:  \n",
    "    percentiles = df[df['code_departement'] == dep][period].quantile([0.25, 0.5, 0.75])\n",
    "    print(f\"Percentile {dep} = 0.25 -> {percentiles[0.25]}\\t0.50 -> {percentiles[0.50]}\\t0.75 -> {percentiles[0.75]}\")"
   ]
  },
  {
   "cell_type": "markdown",
   "id": "2885bf24",
   "metadata": {},
   "source": [
    "---"
   ]
  },
  {
   "cell_type": "markdown",
   "id": "b6cedd48",
   "metadata": {},
   "source": [
    "Observations:\n",
    "* 53 and 72 have more than half of their municipalities deployed at 90%\n",
    "* at least 75% of municipalities in 72 have reached 91% deployment\n",
    "* 44 and 85: for 25% of municipalities, the deployment didn't start\n"
   ]
  },
  {
   "cell_type": "markdown",
   "id": "66d63acd",
   "metadata": {},
   "source": [
    "##### It will be interesting to observe the same indicators not by municipality but by number of inhabitants:"
   ]
  },
  {
   "cell_type": "code",
   "execution_count": 61,
   "id": "26a70ecf",
   "metadata": {},
   "outputs": [
    {
     "name": "stdout",
     "output_type": "stream",
     "text": [
      "44 deployment rate by address = 70 %\n",
      "49 deployment rate by address = 75 %\n",
      "53 deployment rate by address = 87 %\n",
      "72 deployment rate by address = 86 %\n",
      "85 deployment rate by address = 54 %\n"
     ]
    }
   ],
   "source": [
    "for dep in [44, 49, 53, 72, 85]:\n",
    "    deployment = df[df['code_departement'] == dep]['raccordables_trim_2_2022'].sum()\n",
    "    addresses = df[df['code_departement'] == dep]['Meilleure_estimation_des_locaux_T2_2022_'].sum()\n",
    "    print(f\"{dep} deployment rate by address = {int(deployment / addresses * 100)} %\")"
   ]
  },
  {
   "cell_type": "markdown",
   "id": "6351792e",
   "metadata": {},
   "source": [
    "Observations:\n",
    "* It seems that the analysis by address and not by municipality narrows the gap\n",
    "* An explanation could be that in 44 and 85, the most populated cities were deployed first before the rural areas."
   ]
  },
  {
   "cell_type": "markdown",
   "id": "03760559",
   "metadata": {},
   "source": [
    "---\n",
    "## Plot the evolutions since 2017\n",
    "\n",
    "* to do this, we need to:\n",
    " * make an aggregation of data by department (groupby)\n",
    " * delete unnecessary columns\n",
    " * unpivot the table to get just one column with dates and another with the number of deployed addresses"
   ]
  },
  {
   "cell_type": "code",
   "execution_count": 82,
   "id": "2cf0eefa",
   "metadata": {
    "scrolled": false
   },
   "outputs": [
    {
     "data": {
      "text/html": [
       "<div>\n",
       "<style scoped>\n",
       "    .dataframe tbody tr th:only-of-type {\n",
       "        vertical-align: middle;\n",
       "    }\n",
       "\n",
       "    .dataframe tbody tr th {\n",
       "        vertical-align: top;\n",
       "    }\n",
       "\n",
       "    .dataframe thead th {\n",
       "        text-align: right;\n",
       "    }\n",
       "</style>\n",
       "<table border=\"1\" class=\"dataframe\">\n",
       "  <thead>\n",
       "    <tr style=\"text-align: right;\">\n",
       "      <th></th>\n",
       "      <th>code_departement</th>\n",
       "      <th>date</th>\n",
       "      <th>raccordables</th>\n",
       "      <th>addresses</th>\n",
       "      <th>rate</th>\n",
       "    </tr>\n",
       "  </thead>\n",
       "  <tbody>\n",
       "    <tr>\n",
       "      <th>0</th>\n",
       "      <td>44</td>\n",
       "      <td>t4_2017</td>\n",
       "      <td>152921</td>\n",
       "      <td>890831</td>\n",
       "      <td>17.166107</td>\n",
       "    </tr>\n",
       "    <tr>\n",
       "      <th>1</th>\n",
       "      <td>49</td>\n",
       "      <td>t4_2017</td>\n",
       "      <td>77442</td>\n",
       "      <td>491087</td>\n",
       "      <td>15.769507</td>\n",
       "    </tr>\n",
       "    <tr>\n",
       "      <th>2</th>\n",
       "      <td>53</td>\n",
       "      <td>t4_2017</td>\n",
       "      <td>46492</td>\n",
       "      <td>191019</td>\n",
       "      <td>24.338940</td>\n",
       "    </tr>\n",
       "    <tr>\n",
       "      <th>3</th>\n",
       "      <td>72</td>\n",
       "      <td>t4_2017</td>\n",
       "      <td>66260</td>\n",
       "      <td>343859</td>\n",
       "      <td>19.269526</td>\n",
       "    </tr>\n",
       "    <tr>\n",
       "      <th>4</th>\n",
       "      <td>85</td>\n",
       "      <td>t4_2017</td>\n",
       "      <td>21446</td>\n",
       "      <td>486954</td>\n",
       "      <td>4.404112</td>\n",
       "    </tr>\n",
       "  </tbody>\n",
       "</table>\n",
       "</div>"
      ],
      "text/plain": [
       "   code_departement     date  raccordables  addresses       rate\n",
       "0                44  t4_2017        152921     890831  17.166107\n",
       "1                49  t4_2017         77442     491087  15.769507\n",
       "2                53  t4_2017         46492     191019  24.338940\n",
       "3                72  t4_2017         66260     343859  19.269526\n",
       "4                85  t4_2017         21446     486954   4.404112"
      ]
     },
     "execution_count": 82,
     "metadata": {},
     "output_type": "execute_result"
    }
   ],
   "source": [
    "df_by_dep = df.copy()\n",
    "df_by_dep = df_by_dep.groupby('code_departement', as_index=False).sum()\n",
    "df_by_dep =df_by_dep.drop(columns=[\n",
    "    'Code_INSEE',\n",
    "    'code_region',\n",
    "    'Logements',\n",
    "    'Etablissements',\n",
    "    'deploiement',\n",
    "    'Nombre_locaux_IPE_T2_2022_(somme_tous_OI)',\n",
    "    'Meilleure_estimation_des_locaux_T2_2022_',\n",
    "    'Zones_très_denses',\n",
    "    'Engagements_L._33-13_et_AMEL',\n",
    "    'Intentions_privees_hors_engagement_L._33-13',\n",
    "    'Commune_rurale',\n",
    "    'raccordables_trim_2_2022_rate'\n",
    "])\n",
    "\n",
    "df_by_dep.columns = df_by_dep.columns.str.replace('raccordables_trim_1_', 't1_')\n",
    "df_by_dep.columns = df_by_dep.columns.str.replace('raccordables_trim_2_', 't2_')\n",
    "df_by_dep.columns = df_by_dep.columns.str.replace('raccordables_trim_3_', 't3_')\n",
    "df_by_dep.columns = df_by_dep.columns.str.replace('raccordables_trim_4_', 't4_')\n",
    "\n",
    "df_by_dep = df_by_dep.melt(id_vars='code_departement', var_name='date', value_name='raccordables')\n",
    "\n",
    "conditions = [\n",
    "    df_by_dep['code_departement'] == 44,\n",
    "    df_by_dep['code_departement'] == 49,\n",
    "    df_by_dep['code_departement'] == 53,\n",
    "    df_by_dep['code_departement'] == 72,\n",
    "    df_by_dep['code_departement'] == 85,\n",
    "]\n",
    "\n",
    "values = [\n",
    "    df[df['code_departement'] == 44]['Meilleure_estimation_des_locaux_T2_2022_'].sum(),\n",
    "    df[df['code_departement'] == 49]['Meilleure_estimation_des_locaux_T2_2022_'].sum(),\n",
    "    df[df['code_departement'] == 53]['Meilleure_estimation_des_locaux_T2_2022_'].sum(),\n",
    "    df[df['code_departement'] == 72]['Meilleure_estimation_des_locaux_T2_2022_'].sum(),\n",
    "    df[df['code_departement'] == 85]['Meilleure_estimation_des_locaux_T2_2022_'].sum()\n",
    "]\n",
    "\n",
    "# add a temporary column with the nb of addresses by department\n",
    "df_by_dep['addresses'] = np.select(conditions, values)\n",
    "\n",
    "\n",
    "# add a column with the rate raccordables / nb_addresses\n",
    "df_by_dep['rate'] = df_by_dep.raccordables / df_by_dep['addresses'] * 100\n",
    "df_by_dep.head()\n"
   ]
  },
  {
   "cell_type": "code",
   "execution_count": 69,
   "id": "6778b512",
   "metadata": {},
   "outputs": [
    {
     "data": {
      "image/png": "[encoded data removed]",
      "text/plain": [
       "<Figure size 640x480 with 1 Axes>"
      ]
     },
     "metadata": {},
     "output_type": "display_data"
    }
   ],
   "source": [
    "for dep in [44, 49, 53, 72, 85]:\n",
    "    dep_filter = df_by_dep['code_departement'] == dep\n",
    "    plt.plot(df_by_dep[dep_filter]['date'], df_by_dep[dep_filter]['raccordables'], label=dep)\n",
    "    plt.xticks(['t1_2018','t1_2019','t1_2020','t1_2021', 't1_2022'],\n",
    "               ['2018','2019','2020','2021','2022'])\n",
    "\n",
    "plt.legend()\n",
    "plt.show()"
   ]
  },
  {
   "cell_type": "code",
   "execution_count": null,
   "id": "1d11af7f",
   "metadata": {},
   "outputs": [],
   "source": []
  }
 ],
 "metadata": {
  "kernelspec": {
   "display_name": "Python 3 (ipykernel)",
   "language": "python",
   "name": "python3"
  },
  "language_info": {
   "codemirror_mode": {
    "name": "ipython",
    "version": 3
   },
   "file_extension": ".py",
   "mimetype": "text/x-python",
   "name": "python",
   "nbconvert_exporter": "python",
   "pygments_lexer": "ipython3",
   "version": "3.9.12"
  }
 },
 "nbformat": 4,
 "nbformat_minor": 5
}
